{
 "cells": [
  {
   "cell_type": "markdown",
   "metadata": {},
   "source": [
    "# 选择公理\n",
    "1. 对于 \n",
    "$$asd$$\n",
    "\n",
    "$$f=ma$$\n",
    "\n",
    "God Lian says that $a+b=c$\n",
    "\n",
    "God Lian says that \\(a+b=c\\)\n",
    "$$2^3$$\n",
    "$$1+\\frac{1}{2+\\frac{1}{3+\\frac{1}{4+\\frac{1}{5+\\dots}}}}$$\n",
    "\n",
    "$$\\forall$$\n",
    "\n",
    "$$f(x,y)=\\frac{3(x+y)y}{(2xy-7)}$$"
   ]
  },
  {
   "cell_type": "markdown",
   "metadata": {},
   "source": [
    "# 选择公理\n",
    "\n",
    "1. 对于任意集族 $F$, 若 $F$ 中的每一元素都不为空, 则存在一函数 $f$, 使得对任意 $x$ $f$"
   ]
  },
  {
   "cell_type": "code",
   "execution_count": 6,
   "metadata": {},
   "outputs": [],
   "source": [
    "import tensorflow as tf"
   ]
  },
  {
   "cell_type": "code",
   "execution_count": 11,
   "metadata": {},
   "outputs": [
    {
     "name": "stdout",
     "output_type": "stream",
     "text": [
      "b'Hello, TensorFlow!'\n"
     ]
    }
   ],
   "source": [
    "import tensorflow as tf\n",
    "\n",
    "\n",
    "\n",
    "\n",
    "hello = tf.constant('Hello, TensorFlow!')\n",
    "sess = tf.Session()\n",
    "print(sess.run(hello))\n",
    " "
   ]
  },
  {
   "cell_type": "markdown",
   "metadata": {},
   "source": [
    "# "
   ]
  }
 ],
 "metadata": {
  "kernelspec": {
   "display_name": "Python 3",
   "language": "python",
   "name": "python3"
  },
  "language_info": {
   "codemirror_mode": {
    "name": "ipython",
    "version": 3
   },
   "file_extension": ".py",
   "mimetype": "text/x-python",
   "name": "python",
   "nbconvert_exporter": "python",
   "pygments_lexer": "ipython3",
   "version": "3.6.1"
  }
 },
 "nbformat": 4,
 "nbformat_minor": 2
}
