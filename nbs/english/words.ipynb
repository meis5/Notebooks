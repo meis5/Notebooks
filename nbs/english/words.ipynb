{
 "cells": [
  {
   "cell_type": "markdown",
   "metadata": {
    "deletable": true,
    "editable": true
   },
   "source": [
    "## contrived\n",
    "* *adj.* 人为的; 不自然的; 勉强的; 非天然的;\n",
    "> * There was nothing contrived or calculated about what he said."
   ]
  },
  {
   "cell_type": "markdown",
   "metadata": {
    "deletable": true,
    "editable": true
   },
   "source": [
    "## contrive\n",
    "- vt. 策划;设计，发明;创造;设法做到\n",
    "- vi. 计划或谋划\n",
    "> - The oil companies were accused of contriving a shortage of gasoline to justify price increases.\n",
    "> - We therefore had to contrive a very large black-out curtain.\n",
    "> - Can you contrive to be here a little earlier?\n",
    "> - I know you will contrive it all"
   ]
  },
  {
   "cell_type": "markdown",
   "metadata": {
    "collapsed": true,
    "deletable": true,
    "editable": true
   },
   "source": [
    "## distillation\n",
    "- n. 升华; （各种释义的）蒸馏（过程） ; 蒸馏物; 蒸流;\n",
    "> - Art is the distillation of life."
   ]
  },
  {
   "cell_type": "markdown",
   "metadata": {},
   "source": [
    "## distill\n",
    "- v.\t蒸馏，提取，滴下;\n",
    "- vt.\t提炼; 抽出…的精华; 使渗出; 使滴下;\n",
    "- vi.\t蒸馏; 精炼; 作为精华产生; 渗出;\n",
    "> - Analysis of requirements means being able to distill the broad business need into manageable units for design and development.\n",
    "  - At last, the authors get the decision table and distill decision rules.\n"
   ]
  },
  {
   "cell_type": "markdown",
   "metadata": {},
   "source": [
    "## beget\n",
    "- vt. <文>为…之生父;产生，引起\n",
    "> - Poverty begets debt.\n",
    "  - He wanted to beget an heir.\n",
    "  - Economic tensions beget political ones.\n",
    "  - Great love will beget great faith.\n",
    "  - A filial generation To beget and conceive (offspring)."
   ]
  },
  {
   "cell_type": "markdown",
   "metadata": {},
   "source": [
    "## filial\n",
    "- adj. 子女的\n",
    "- adv. 子女地\n",
    "> - His father would accuse him of neglecting his filial duties.\n",
    "  - Right now I'm in need of a little filial affection.\n",
    "  - It is hard to be both loyal and filial at once.\n"
   ]
  },
  {
   "cell_type": "code",
   "execution_count": null,
   "metadata": {
    "collapsed": true
   },
   "outputs": [],
   "source": []
  }
 ],
 "metadata": {
  "kernelspec": {
   "display_name": "Python 3",
   "language": "python",
   "name": "python3"
  },
  "language_info": {
   "codemirror_mode": {
    "name": "ipython",
    "version": 3
   },
   "file_extension": ".py",
   "mimetype": "text/x-python",
   "name": "python",
   "nbconvert_exporter": "python",
   "pygments_lexer": "ipython3",
   "version": "3.6.1"
  }
 },
 "nbformat": 4,
 "nbformat_minor": 2
}
