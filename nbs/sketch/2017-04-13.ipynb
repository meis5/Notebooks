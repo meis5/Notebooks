{
 "cells": [
  {
   "cell_type": "markdown",
   "metadata": {},
   "source": [
    "### 生活\n",
    "\n",
    "快乐幸福是什么\n",
    "\n",
    "内心的宁静 与 惬意\n",
    "\n",
    "物理的世界\n",
    "\n",
    "简洁\n",
    "\n",
    "JavaScript Python Golang Julia 4们语言 全部精通\n",
    "\n",
    "数学\n",
    "\n",
    "分析\n",
    "决策\n",
    "学习\n",
    "智能\n",
    "情感\n",
    "意识\n",
    "\n",
    "一步步来\n",
    "\n",
    "首先 \n",
    "- 数学 集合论 点集拓扑\n",
    "- Javascript Python\n"
   ]
  },
  {
   "cell_type": "code",
   "execution_count": null,
   "metadata": {},
   "outputs": [],
   "source": []
  }
 ],
 "metadata": {
  "kernelspec": {
   "display_name": "Python 3",
   "language": "python",
   "name": "python3"
  },
  "language_info": {
   "codemirror_mode": {
    "name": "ipython",
    "version": 3
   },
   "file_extension": ".py",
   "mimetype": "text/x-python",
   "name": "python",
   "nbconvert_exporter": "python",
   "pygments_lexer": "ipython3",
   "version": "3.6.1"
  }
 },
 "nbformat": 4,
 "nbformat_minor": 2
}
