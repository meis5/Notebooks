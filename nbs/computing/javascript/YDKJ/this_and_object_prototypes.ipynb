{
 "cells": [
  {
   "cell_type": "code",
   "execution_count": 8,
   "metadata": {
    "collapsed": false,
    "deletable": true,
    "editable": true
   },
   "outputs": [
    {
     "name": "stdout",
     "output_type": "stream",
     "text": [
      "Hello, I'm KYLE\n",
      "Hello, I'm READER\n"
     ]
    }
   ],
   "source": [
    "(() => {\n",
    "    const log = console.info\n",
    "    \n",
    "    function identify() {\n",
    "        return this.name.toUpperCase()\n",
    "    }\n",
    "\n",
    "    function speak() {\n",
    "        var greeting = `Hello, I'm ${identify.call(this)}`\n",
    "        log(greeting)\n",
    "    }\n",
    "\n",
    "    const me = {\n",
    "        name: 'Kyle'\n",
    "    }\n",
    "\n",
    "    const you = {\n",
    "        name: 'Reader'\n",
    "    }\n",
    "    \n",
    "    identify.call(me) // KYLE\n",
    "    identify.call(you) // READER\n",
    "\n",
    "    speak.call(me) // Hello, I'm KYLE\n",
    "    speak.call(you) // Hello, I'm READER\n",
    "})()"
   ]
  },
  {
   "cell_type": "code",
   "execution_count": 14,
   "metadata": {
    "collapsed": false,
    "deletable": true,
    "editable": true
   },
   "outputs": [
    {
     "name": "stdout",
     "output_type": "stream",
     "text": [
      "foo: 6\n",
      "NaN\n",
      "foo: 7\n",
      "NaN\n",
      "foo: 8\n",
      "NaN\n",
      "foo: 9\n",
      "NaN\n",
      "0\n",
      "NaN\n"
     ]
    }
   ],
   "source": [
    "function foo(num) {\n",
    "    console.log(`foo: ${num}`)\n",
    "    console.log(this.count)\n",
    "\n",
    "    // keep track of how many times `foo` is called\n",
    "    this.count++ // 创建全局变量\n",
    "}\n",
    "\n",
    "foo.count = 0\n",
    "\n",
    "\n",
    "\n",
    "for (let i=0; i<10; i++) {\n",
    "    if (i > 5) {\n",
    "        foo(i)\n",
    "    }\n",
    "}\n",
    "// foo: 6\n",
    "// foo: 7\n",
    "// foo: 8\n",
    "// foo: 9\n",
    "\n",
    "// how many times was `foo` called?\n",
    "console.log(foo.count) // 0 -- WTF?\n",
    "console.log(count) // 全局变量 count 的值为 NaN"
   ]
  },
  {
   "cell_type": "code",
   "execution_count": 16,
   "metadata": {
    "collapsed": false,
    "deletable": true,
    "editable": true
   },
   "outputs": [
    {
     "name": "stdout",
     "output_type": "stream",
     "text": [
      "undefined\n"
     ]
    }
   ],
   "source": [
    "function foo() {\n",
    "    var a = 2\n",
    "    this.bar()\n",
    "}\n",
    "\n",
    "function bar() {\n",
    "    console.log(this.a)\n",
    "}\n",
    "\n",
    "foo() // undefined"
   ]
  },
  {
   "cell_type": "code",
   "execution_count": null,
   "metadata": {
    "collapsed": true
   },
   "outputs": [],
   "source": []
  }
 ],
 "metadata": {
  "kernelspec": {
   "display_name": "Javascript (Node.js)",
   "language": "javascript",
   "name": "javascript"
  },
  "language_info": {
   "file_extension": ".js",
   "mimetype": "application/javascript",
   "name": "javascript",
   "version": "7.9.0"
  }
 },
 "nbformat": 4,
 "nbformat_minor": 2
}
