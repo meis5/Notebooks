{
 "cells": [
  {
   "cell_type": "markdown",
   "metadata": {
    "deletable": true,
    "editable": true
   },
   "source": [
    "# Types\n",
    "\n",
    "Js 有 7 种类型\n",
    "\n",
    "`null` `undefined` `boolean` `number` `string` `object` `symbol`"
   ]
  },
  {
   "cell_type": "code",
   "execution_count": 3,
   "metadata": {
    "collapsed": false,
    "deletable": true,
    "editable": true
   },
   "outputs": [],
   "source": [
    "(() => {\n",
    "    const log = () => {}\n",
    "    // 值类型\n",
    "    log(typeof null) // object\n",
    "    log(typeof undefined) // undefined\n",
    "\n",
    "    log(typeof false) // boolean\n",
    "    log(typeof true) // boolean \n",
    "\n",
    "    log(typeof 0) // number\n",
    "    log(typeof '') // string\n",
    "    // 引用类型\n",
    "    log(typeof {}) // object\n",
    "    log(typeof Object) // function 构造函数\n",
    "    log(typeof Object()) // object\n",
    "    log(typeof new Object()) // object\n",
    "\n",
    "    log(typeof new Function()) // function 函数\n",
    "    log(new Function().length) // 函数的 length 属性代表函数参数的长度\n",
    "\n",
    "    log(typeof new Array()) // object\n",
    "    log(typeof new Date()) // object\n",
    "    log(typeof new RegExp()) // object\n",
    "\n",
    "    log(typeof Symbol) // function 但非构造函数\n",
    "    log(typeof Symbol('')) // symbol\n",
    "    \n",
    "    log(typeof(0)) // typeof 可以写成函数调用形式但后面不是参数而是操作数\n",
    "    // log(typeof typeof) // error typeof 是操作符\n",
    "    // log(typeof(typeof)) // error typeof 是操作符\n",
    "\n",
    "    // 判断是否为 null\n",
    "    const isNull = x => !x && typeof x === 'object'\n",
    "    log(isNull(null))\n",
    "    // 判断是否是 NaN\n",
    "    const isNaN = x => x !== x\n",
    "    log(isNaN(-NaN))\n",
    "    log(isNaN(0 / 0))\n",
    "    \n",
    "    let x\n",
    "    log(x) // undefined 申明但未定义 变量值为 undefined\n",
    "    // console.log(y) // not defined 引用错误 未申明变量\n",
    "    log(typeof y) // undefined type 总会返回值 即使变量未声明 常用来做存在性检查\n",
    "    \n",
    "    let z = {}\n",
    "    log(z.a) // undefined 未定义对象属性 引用变量的为未定义属性也不会抛出错误\n",
    "})()"
   ]
  },
  {
   "cell_type": "markdown",
   "metadata": {
    "deletable": true,
    "editable": true
   },
   "source": [
    "# Values\n"
   ]
  },
  {
   "cell_type": "code",
   "execution_count": 1,
   "metadata": {
    "collapsed": false,
    "deletable": true,
    "editable": true
   },
   "outputs": [
    {
     "name": "stdout",
     "output_type": "stream",
     "text": [
      "[ 0, , 2 ]\n",
      "3\n",
      "undefined\n",
      "[ , , 2 ]\n",
      "3\n",
      "undefined\n",
      "[ , undefined, 2 ]\n",
      "[ , undefined, 2, three: 3 ]\n",
      "3\n",
      "[ , undefined, 2, 3, three: 3 ]\n",
      "4\n"
     ]
    }
   ],
   "source": [
    "(() => {\n",
    "    const log = console.log\n",
    "    let a = []\n",
    "    a[0] = 0\n",
    "    // `a[1]` 位置没有设置 其实是就是未申明\n",
    "    a[2] = 2\n",
    "    \n",
    "    log(a)\n",
    "    log(a.length)\n",
    "    log(a[1]) // undefined 其实是未申明\n",
    "    \n",
    "    delete a[0]\n",
    "    log(a) // delete 使得该位置变为未申明\n",
    "    log(a.length) // delete 之后数组 length 不会发生改变\n",
    "    \n",
    "    log(a[0]) // undefined\n",
    "    a[1] = undefined // 申明该位置 但未进行定义\n",
    "    log(a) // a[1] 位置的值为 undefined\n",
    "    \n",
    "    a['three'] = 3 // 数组可定义非数字 key\n",
    "    log(a)\n",
    "    log(a.length) // 3 非数字 key 不进入数组的 length 计数\n",
    "    \n",
    "    a['3'] = 3 // key 是数组索引字符串 会自动转换为数值 同于 a[3] = 3\n",
    "    log(a)\n",
    "    log(a.length) // 4\n",
    "})()"
   ]
  },
  {
   "cell_type": "code",
   "execution_count": 1,
   "metadata": {
    "collapsed": false,
    "deletable": true,
    "editable": true
   },
   "outputs": [
    {
     "data": {
      "text/html": [
       "<div id=\"root\">root</div><script>function a() {\n",
       "    const r = document.getElementById('root')\n",
       "    r.style.color = 'red'\n",
       "};a()</script>"
      ]
     },
     "execution_count": 1,
     "metadata": {},
     "output_type": "execute_result"
    }
   ],
   "source": [
    "a = `function a() {\n",
    "    const r = document.getElementById('root')\n",
    "    r.style.color = 'red'\n",
    "}`\n",
    "\n",
    "\n",
    "\n",
    "$$html$$ = `<div id=\"root\">root</div><script>${a};a()</script>`"
   ]
  },
  {
   "cell_type": "markdown",
   "metadata": {
    "deletable": true,
    "editable": true
   },
   "source": [
    "$$e^x=\\sum_{i=0}^\\infty \\frac{1}{i!}x^i$$"
   ]
  },
  {
   "cell_type": "code",
   "execution_count": null,
   "metadata": {
    "collapsed": true,
    "deletable": true,
    "editable": true
   },
   "outputs": [],
   "source": []
  },
  {
   "cell_type": "code",
   "execution_count": null,
   "metadata": {
    "collapsed": true
   },
   "outputs": [],
   "source": []
  }
 ],
 "metadata": {
  "kernelspec": {
   "display_name": "Javascript (Node.js)",
   "language": "javascript",
   "name": "javascript"
  },
  "language_info": {
   "file_extension": ".js",
   "mimetype": "application/javascript",
   "name": "javascript",
   "version": "7.8.0"
  }
 },
 "nbformat": 4,
 "nbformat_minor": 2
}
