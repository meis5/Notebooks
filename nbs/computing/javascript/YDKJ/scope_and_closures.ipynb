{
 "cells": [
  {
   "cell_type": "markdown",
   "metadata": {
    "deletable": true,
    "editable": true
   },
   "source": [
    "**传统语言的编译大概分为3步**\n",
    "1. Tokenizing/Lexing\n",
    "1. Parsing(to AST(*Abstract Syntax Tree*))\n",
    "1. Code-Generation\n",
    "\n",
    "***Javascript* 的编译则要复杂得多**"
   ]
  },
  {
   "cell_type": "code",
   "execution_count": 10,
   "metadata": {
    "collapsed": false,
    "deletable": true,
    "editable": true
   },
   "outputs": [],
   "source": [
    "// 'use strict';\n",
    "function foo(a) {\n",
    "    // console.log(a + b) ReferenceError\n",
    "    b = a // ReferenceError if `strict mode` otherwise declare a gloable variable b\n",
    "}\n",
    "\n",
    "foo(2)\n",
    "// ReferenceError is Scope resolution-failure related,\n",
    "// whereas TypeError implies that Scope resolution was successful,\n",
    "// but that there was an illegal/impossible action attempted against the result."
   ]
  },
  {
   "cell_type": "markdown",
   "metadata": {
    "collapsed": true,
    "deletable": true,
    "editable": true
   },
   "source": [
    "Javsscript 是 Lexical Scope, 有的语言比如 bash"
   ]
  },
  {
   "cell_type": "code",
   "execution_count": 4,
   "metadata": {
    "collapsed": false
   },
   "outputs": [
    {
     "name": "stdout",
     "output_type": "stream",
     "text": [
      "2\n",
      "undefined\n"
     ]
    },
    {
     "ename": "ReferenceError",
     "evalue": "b is not defined",
     "output_type": "error",
     "traceback": [
      "ReferenceError: b is not defined",
      "    at evalmachine.<anonymous>:17:23",
      "    at evalmachine.<anonymous>:19:3",
      "    at ContextifyScript.Script.runInThisContext (vm.js:23:33)",
      "    at Object.runInThisContext (vm.js:95:38)",
      "    at run ([eval]:613:19)",
      "    at onRunRequest ([eval]:384:22)",
      "    at onMessage ([eval]:352:17)",
      "    at emitTwo (events.js:106:13)",
      "    at process.emit (events.js:194:7)",
      "    at process.nextTick (internal/child_process.js:766:12)"
     ]
    }
   ],
   "source": [
    "(function() {\n",
    "    a = 2\n",
    "    var a\n",
    "    console.log(a) // 2\n",
    "})();\n",
    "(function() {\n",
    "    console.log(a) // undefined\n",
    "    var a = 2\n",
    "})();\n",
    "\n",
    "///////////////////////\n",
    "\n",
    "(function() {\n",
    "\n",
    "})();\n",
    "(function() {\n",
    "    console.log(4444, b) // undefined\n",
    "    let b = 2\n",
    "})();"
   ]
  },
  {
   "cell_type": "code",
   "execution_count": null,
   "metadata": {
    "collapsed": true
   },
   "outputs": [],
   "source": []
  },
  {
   "cell_type": "code",
   "execution_count": null,
   "metadata": {
    "collapsed": true
   },
   "outputs": [],
   "source": []
  }
 ],
 "metadata": {
  "kernelspec": {
   "display_name": "Javascript (Node.js)",
   "language": "javascript",
   "name": "javascript"
  },
  "language_info": {
   "file_extension": ".js",
   "mimetype": "application/javascript",
   "name": "javascript",
   "version": "7.9.0"
  }
 },
 "nbformat": 4,
 "nbformat_minor": 2
}
